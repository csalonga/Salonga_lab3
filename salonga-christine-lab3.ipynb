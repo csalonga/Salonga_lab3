{
 "cells": [
  {
   "cell_type": "markdown",
   "metadata": {},
   "source": [
    "#### 184310\n",
    "#### Salonga\n",
    "#### BS ITE"
   ]
  },
  {
   "cell_type": "markdown",
   "metadata": {},
   "source": [
    "# Problem 1"
   ]
  },
  {
   "cell_type": "code",
   "execution_count": 19,
   "metadata": {},
   "outputs": [
    {
     "name": "stdout",
     "output_type": "stream",
     "text": [
      "follower\n",
      "followed by\n",
      "none\n"
     ]
    }
   ],
   "source": [
    "social_graph = {\n",
    "    \"@bongolpoc\":{\"first_name\":\"Joselito\",\n",
    "                  \"last_name\":\"Olpoc\",\n",
    "                  \"following\":[\n",
    "                  ]\n",
    "    },\n",
    "    \"@joaquin\":  {\"first_name\":\"Joaquin\",\n",
    "                  \"last_name\":\"Gonzales\",\n",
    "                  \"following\":[\n",
    "                      \"@chums\",\"@jobenilagan\"\n",
    "                  ]\n",
    "    },\n",
    "    \"@chums\" : {\"first_name\":\"Matthew\",\n",
    "                \"last_name\":\"Uy\",\n",
    "                \"following\":[\n",
    "                    \"@bongolpoc\",\"@miketan\",\"@rudyang\",\"@joeilagan\"\n",
    "                ]\n",
    "    },\n",
    "    \"@jobenilagan\":{\"first_name\":\"Joben\",\n",
    "                   \"last_name\":\"Ilagan\",\n",
    "                   \"following\":[\n",
    "                    \"@eeebeee\",\"@joeilagan\",\"@chums\",\"@joaquin\"\n",
    "                   ]\n",
    "    },\n",
    "    \"@joeilagan\":{\"first_name\":\"Joe\",\n",
    "                  \"last_name\":\"Ilagan\",\n",
    "                  \"following\":[\n",
    "                    \"@eeebeee\",\"@jobenilagan\",\"@chums\"\n",
    "                  ]\n",
    "    },\n",
    "    \"@eeebeee\":  {\"first_name\":\"Elizabeth\",\n",
    "                  \"last_name\":\"Ilagan\",\n",
    "                  \"following\":[\n",
    "                    \"@jobenilagan\",\"@joeilagan\"\n",
    "                  ]\n",
    "    },\n",
    "}\n",
    "\n",
    "def relationship_status(from_member, to_member):\n",
    "  isFollowing = False\n",
    "  isFollower = False\n",
    "\n",
    "  for i in social_graph:\n",
    "    if i == from_member:\n",
    "      for j in social_graph[i][\"following\"]:\n",
    "        if j == to_member:\n",
    "          isFollowing = True\n",
    "    if i == to_member:\n",
    "      for j in social_graph[i][\"following\"]:\n",
    "        if j == from_member:\n",
    "          isFollower = True\n",
    "  \n",
    "  if isFollowing and isFollower:\n",
    "    print(\"friends\")\n",
    "  elif isFollowing:\n",
    "    print(\"follower\")\n",
    "  elif isFollower:\n",
    "    print(\"followed by\")\n",
    "  else:\n",
    "    print(\"none\")\n",
    "    \n",
    "relationship_status(\"@jobenilagan\", \"@chums\")\n",
    "relationship_status(\"@chums\", \"@jobenilagan\")\n",
    "relationship_status(\"@bongolpoc\", \"@joaquin\")"
   ]
  },
  {
   "cell_type": "markdown",
   "metadata": {},
   "source": [
    "# Problem 2"
   ]
  },
  {
   "cell_type": "code",
   "execution_count": 10,
   "metadata": {},
   "outputs": [
    {
     "name": "stdout",
     "output_type": "stream",
     "text": [
      "X\n"
     ]
    }
   ],
   "source": [
    "board1 = [\n",
    "['X','X','O'],\n",
    "['O','X','O'],\n",
    "['O','','X'],\n",
    "]\n",
    "\n",
    "board2 = [\n",
    "['X','X','O'],\n",
    "['O','X','O'],\n",
    "['','O','X'],\n",
    "]\n",
    "\n",
    "board3 = [\n",
    "['O','X','O'],\n",
    "['','O','X'],\n",
    "['X','X','O'],\n",
    "]\n",
    "\n",
    "board4 = [\n",
    "['X','X','X'],\n",
    "['O','X','O'],\n",
    "['O','','O'],\n",
    "]\n",
    "\n",
    "board5 = [\n",
    "['X','X','O'],\n",
    "['O','X','O'],\n",
    "['X','','O'],\n",
    "]\n",
    "\n",
    "board6 = [\n",
    "['X','X','O'],\n",
    "['O','X','O'],\n",
    "['X','',''],\n",
    "]\n",
    "\n",
    "def get_winner(board):\n",
    "\n",
    "     winner = None\n",
    "\n",
    "     for row in board:\n",
    "          if row.count('X') == 3:\n",
    "               winner = 'X'\n",
    "          if row.count('O') == 3:\n",
    "               winner = 'O'\n",
    "\n",
    "     for i in range(0,3):\n",
    "          column = []\n",
    "          for row in board:\n",
    "               column.append(row[i])\n",
    "          if column.count('X') ==3:\n",
    "               winner = 'X'\n",
    "          if column.count('O') == 3:\n",
    "               winner = 'O'\n",
    "\n",
    "     diagonal1 = [r[i] for i, r in enumerate(board)]\n",
    "     diagonal2 = [r[-i-1] for i, r in enumerate(board)]\n",
    "     if diagonal1.count('X') == 3:\n",
    "          winner = 'X'\n",
    "     if diagonal1.count('O') == 3:\n",
    "          winner = 'O'\n",
    "     if diagonal2.count('X') == 3:\n",
    "          winner = 'X'\n",
    "     if diagonal2.count('O') == 3:\n",
    "          winner = 'O'\n",
    "     \n",
    "\n",
    "     print(winner)\n",
    "\n",
    "get_winner(board1)"
   ]
  },
  {
   "cell_type": "markdown",
   "metadata": {},
   "source": [
    "# Problem 3"
   ]
  },
  {
   "cell_type": "code",
   "execution_count": 16,
   "metadata": {},
   "outputs": [
    {
     "name": "stdout",
     "output_type": "stream",
     "text": [
      "ETA is: 90\n",
      "ETA is: 10\n",
      "ETA is: 45\n"
     ]
    }
   ],
   "source": [
    "locations = {\n",
    "    \"admu\":{\n",
    "        \"name\":\"Ateneo de Manila University\",\n",
    "        \"latitude\":14.6394557,\n",
    "        \"longitude\":121.0758975        \n",
    "    },\n",
    "    \"upd\":{\n",
    "        \"name\":\"University of the Philippines-Diliman Campus\",\n",
    "        \"latitude\":14.6538519,\n",
    "        \"longitude\":121.0663348\n",
    "    },\n",
    "    \"dlsu\":{\n",
    "        \"name\":\"De La Salle University-Taft\",\n",
    "        \"latitude\":14.5647346,\n",
    "        \"longitude\":120.9909876\n",
    "\n",
    "    }\n",
    "}\n",
    "\n",
    "legs = {\n",
    "     (\"upd\",\"admu\"):{\n",
    "         \"travel_time_mins\":10\n",
    "     },\n",
    "     (\"admu\",\"dlsu\"):{\n",
    "         \"travel_time_mins\":35\n",
    "     },\n",
    "     (\"dlsu\", \"upd\"):{\n",
    "         \"travel_time_mins\":55\n",
    "     },\n",
    "}\n",
    "\n",
    "def eta(source, destination):\n",
    "    place = source\n",
    "    when = 0\n",
    "    for i in legs:\n",
    "        if i[0] == place:\n",
    "            when += legs[i][\"travel_time_mins\"]\n",
    "            if i[1] == destination:\n",
    "                break\n",
    "            else:\n",
    "                place = i[1]\n",
    "    print(\"ETA is:\",when)\n",
    "    \n",
    "eta(\"admu\", \"upd\")\n",
    "eta('upd', 'admu')\n",
    "eta(\"upd\", \"dlsu\")"
   ]
  },
  {
   "cell_type": "code",
   "execution_count": null,
   "metadata": {},
   "outputs": [],
   "source": []
  }
 ],
 "metadata": {
  "kernelspec": {
   "display_name": "Python 3",
   "language": "python",
   "name": "python3"
  },
  "language_info": {
   "codemirror_mode": {
    "name": "ipython",
    "version": 3
   },
   "file_extension": ".py",
   "mimetype": "text/x-python",
   "name": "python",
   "nbconvert_exporter": "python",
   "pygments_lexer": "ipython3",
   "version": "3.8.3"
  }
 },
 "nbformat": 4,
 "nbformat_minor": 4
}
